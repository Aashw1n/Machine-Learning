{
 "cells": [
  {
   "cell_type": "markdown",
   "metadata": {},
   "source": [
    "## Handwritten Image Detection with Keras using MNIST and Fashion MNIST data\n",
    "\n",
    "In this exercise we will work with image data: specifically the famous MNIST and Fashion MNIST data sets.  MNIST data set contains 70,000 images of handwritten digits in grayscale (0=black, 255 = white). Fashion MNIST data set contains 70,000 images of clothing in grayscale (0=black, 255 = white). All the images are 28 pixels by 28 pixels for a total of 784 pixels.  This is quite small by image standards.  Also, the images are well centered and isolated.  This makes this problem solvable with standard fully connected neural nets without too much pre-work. <br><br>\n",
    "We will use a Convolutional Neural Network and compare it with a linear neural network. "
   ]
  },
  {
   "cell_type": "markdown",
   "metadata": {},
   "source": [
    "In the first part of this notebook, we will walk you through loading in the data, building a network, and training it.  Then it will be your turn to try different models and see if you can improve performance"
   ]
  },
  {
   "cell_type": "code",
   "execution_count": 40,
   "metadata": {},
   "outputs": [],
   "source": [
    "# Preliminaries\n",
    "\n",
    "from __future__ import print_function\n",
    "\n",
    "import keras\n",
    "from keras.datasets import mnist\n",
    "from keras.models import Sequential\n",
    "from keras.layers import Dense, Dropout, Conv2D, MaxPooling2D, Flatten, Conv3D\n",
    "from keras.optimizers import RMSprop\n",
    "from keras.datasets import fashion_mnist\n",
    "\n",
    "import numpy as np\n",
    "import matplotlib.pyplot as plt\n",
    "%matplotlib inline"
   ]
  },
  {
   "cell_type": "markdown",
   "metadata": {
    "collapsed": true
   },
   "source": [
    "Let's explore the dataset a little bit"
   ]
  },
  {
   "cell_type": "code",
   "execution_count": 2,
   "metadata": {},
   "outputs": [],
   "source": [
    "# Load the data, shuffled and split between train and test sets\n",
    "(x_train, y_train), (x_test, y_test) = mnist.load_data()"
   ]
  },
  {
   "cell_type": "code",
   "execution_count": 3,
   "metadata": {},
   "outputs": [
    {
     "data": {
      "text/plain": [
       "(60000, 28, 28)"
      ]
     },
     "execution_count": 3,
     "metadata": {},
     "output_type": "execute_result"
    }
   ],
   "source": [
    "x_train.shape"
   ]
  },
  {
   "cell_type": "code",
   "execution_count": 4,
   "metadata": {},
   "outputs": [
    {
     "data": {
      "text/plain": [
       "array([[  0,   0,   0,   0,   0,   0,   0,   0,   0,   0,   0,   0,   0,\n",
       "          0,   0,   0,   0,   0,   0,   0,   0,   0,   0,   0,   0,   0,\n",
       "          0,   0],\n",
       "       [  0,   0,   0,   0,   0,   0,   0,   0,   0,   0,   0,   0,   0,\n",
       "          0,   0,   0,   0,   0,   0,   0,   0,   0,   0,   0,   0,   0,\n",
       "          0,   0],\n",
       "       [  0,   0,   0,   0,   0,   0,   0,   0,   0,   0,   0,   0,   0,\n",
       "          0,   0,   0,   0,   0,   0,   0,   0,   0,   0,   0,   0,   0,\n",
       "          0,   0],\n",
       "       [  0,   0,   0,   0,   0,   0,   0,   0,   0,   0,   0,   0,   0,\n",
       "          0,   0,   0,   0,   0,   0,   0,   0,   0,   0,   0,   0,   0,\n",
       "          0,   0],\n",
       "       [  0,   0,   0,   0,   0,   0,   0,   0,   0,   0,   0,   0,   0,\n",
       "          0,   0,   0,   0,   0,   0,   0,   0,   0,   0,   0,   0,   0,\n",
       "          0,   0],\n",
       "       [  0,   0,   0,   0,   0,   0,   0,   0,   0,   0,   0,  87, 138,\n",
       "        170, 253, 201, 244, 212, 222, 138,  86,  22,   0,   0,   0,   0,\n",
       "          0,   0],\n",
       "       [  0,   0,   0,   0,   0,   0,   0,   0,   0,   0,  95, 253, 252,\n",
       "        252, 252, 252, 253, 252, 252, 252, 252, 245,  80,   0,   0,   0,\n",
       "          0,   0],\n",
       "       [  0,   0,   0,   0,   0,   0,   0,   0,   0,  68, 246, 205,  69,\n",
       "         69,  69,  69,  69,  69,  69,  69, 205, 253, 240,  50,   0,   0,\n",
       "          0,   0],\n",
       "       [  0,   0,   0,   0,   0,   0,   0,   0,   0, 187, 252, 218,  34,\n",
       "          0,   0,   0,   0,   0,   0,   0, 116, 253, 252,  69,   0,   0,\n",
       "          0,   0],\n",
       "       [  0,   0,   0,   0,   0,   0,   0,   0, 116, 248, 252, 253,  92,\n",
       "          0,   0,   0,   0,   0,   0,  95, 230, 253, 157,   6,   0,   0,\n",
       "          0,   0],\n",
       "       [  0,   0,   0,   0,   0,   0,   0,   0, 116, 249, 253, 189,  42,\n",
       "          0,   0,   0,   0,  36, 170, 253, 243, 158,   0,   0,   0,   0,\n",
       "          0,   0],\n",
       "       [  0,   0,   0,   0,   0,   0,   0,   0,   0, 133, 252, 245, 140,\n",
       "         34,   0,   0,  57, 219, 252, 235,  60,   0,   0,   0,   0,   0,\n",
       "          0,   0],\n",
       "       [  0,   0,   0,   0,   0,   0,   0,   0,   0,  25, 205, 253, 252,\n",
       "        234, 184, 184, 253, 240, 100,  44,   0,   0,   0,   0,   0,   0,\n",
       "          0,   0],\n",
       "       [  0,   0,   0,   0,   0,   0,   0,   0,   0,   0,  21, 161, 219,\n",
       "        252, 252, 252, 234,  37,   0,   0,   0,   0,   0,   0,   0,   0,\n",
       "          0,   0],\n",
       "       [  0,   0,   0,   0,   0,   0,   0,   0,   0,   0,   0,  11, 203,\n",
       "        252, 252, 252, 251, 135,   0,   0,   0,   0,   0,   0,   0,   0,\n",
       "          0,   0],\n",
       "       [  0,   0,   0,   0,   0,   0,   0,   0,   0,   9,  76, 255, 253,\n",
       "        205, 168, 220, 255, 253, 137,   5,   0,   0,   0,   0,   0,   0,\n",
       "          0,   0],\n",
       "       [  0,   0,   0,   0,   0,   0,   0,   0,   0, 114, 252, 249, 132,\n",
       "         25,   0,   0, 180, 252, 252,  45,   0,   0,   0,   0,   0,   0,\n",
       "          0,   0],\n",
       "       [  0,   0,   0,   0,   0,   0,   0,   0,  51, 220, 252, 199,   0,\n",
       "          0,   0,   0,  38, 186, 252, 154,   7,   0,   0,   0,   0,   0,\n",
       "          0,   0],\n",
       "       [  0,   0,   0,   0,   0,   0,   0,   0, 184, 252, 252,  21,   0,\n",
       "          0,   0,   0,   0,  67, 252, 252,  22,   0,   0,   0,   0,   0,\n",
       "          0,   0],\n",
       "       [  0,   0,   0,   0,   0,   0,   0,   0, 184, 252, 200,   0,   0,\n",
       "          0,   0,   0,   0,  47, 252, 252,  22,   0,   0,   0,   0,   0,\n",
       "          0,   0],\n",
       "       [  0,   0,   0,   0,   0,   0,   0,   0, 185, 253, 201,   0,   0,\n",
       "          0,   0,   0,   3, 118, 253, 245,  21,   0,   0,   0,   0,   0,\n",
       "          0,   0],\n",
       "       [  0,   0,   0,   0,   0,   0,   0,   0, 163, 252, 252,   0,   0,\n",
       "          0,   0,   0,  97, 252, 252,  87,   0,   0,   0,   0,   0,   0,\n",
       "          0,   0],\n",
       "       [  0,   0,   0,   0,   0,   0,   0,   0,  51, 240, 252, 123,  70,\n",
       "         70, 112, 184, 222, 252, 170,  13,   0,   0,   0,   0,   0,   0,\n",
       "          0,   0],\n",
       "       [  0,   0,   0,   0,   0,   0,   0,   0,   0, 165, 252, 253, 252,\n",
       "        252, 252, 252, 245, 139,  13,   0,   0,   0,   0,   0,   0,   0,\n",
       "          0,   0],\n",
       "       [  0,   0,   0,   0,   0,   0,   0,   0,   0,   9,  75, 253, 252,\n",
       "        221, 137, 137,  21,   0,   0,   0,   0,   0,   0,   0,   0,   0,\n",
       "          0,   0],\n",
       "       [  0,   0,   0,   0,   0,   0,   0,   0,   0,   0,   0,   0,   0,\n",
       "          0,   0,   0,   0,   0,   0,   0,   0,   0,   0,   0,   0,   0,\n",
       "          0,   0],\n",
       "       [  0,   0,   0,   0,   0,   0,   0,   0,   0,   0,   0,   0,   0,\n",
       "          0,   0,   0,   0,   0,   0,   0,   0,   0,   0,   0,   0,   0,\n",
       "          0,   0],\n",
       "       [  0,   0,   0,   0,   0,   0,   0,   0,   0,   0,   0,   0,   0,\n",
       "          0,   0,   0,   0,   0,   0,   0,   0,   0,   0,   0,   0,   0,\n",
       "          0,   0]], dtype=uint8)"
      ]
     },
     "execution_count": 4,
     "metadata": {},
     "output_type": "execute_result"
    }
   ],
   "source": [
    "#Let's just look at a particular example to see what is inside\n",
    "\n",
    "x_train[333]  ## Just a 28 x 28 numpy array of ints from 0 to 255"
   ]
  },
  {
   "cell_type": "code",
   "execution_count": 5,
   "metadata": {},
   "outputs": [
    {
     "data": {
      "text/plain": [
       "8"
      ]
     },
     "execution_count": 5,
     "metadata": {},
     "output_type": "execute_result"
    }
   ],
   "source": [
    "# What is the corresponding label in the training set?\n",
    "y_train[333]"
   ]
  },
  {
   "cell_type": "code",
   "execution_count": 6,
   "metadata": {},
   "outputs": [
    {
     "data": {
      "text/plain": [
       "<matplotlib.image.AxesImage at 0x1e8d9f46c88>"
      ]
     },
     "execution_count": 6,
     "metadata": {},
     "output_type": "execute_result"
    },
    {
     "data": {
      "image/png": "[encoded data removed]",
      "text/plain": [
       "<Figure size 432x288 with 1 Axes>"
      ]
     },
     "metadata": {
      "needs_background": "light"
     },
     "output_type": "display_data"
    }
   ],
   "source": [
    "# Let's see what this image actually looks like\n",
    "\n",
    "plt.imshow(x_train[333], cmap='Greys_r')"
   ]
  },
  {
   "cell_type": "code",
   "execution_count": 7,
   "metadata": {},
   "outputs": [
    {
     "name": "stdout",
     "output_type": "stream",
     "text": [
      "(60000, 28, 28) train samples\n",
      "(10000, 28, 28) test samples\n"
     ]
    }
   ],
   "source": [
    "# this is the shape of the np.array x_train\n",
    "# it is 3 dimensional.\n",
    "print(x_train.shape, 'train samples')\n",
    "print(x_test.shape, 'test samples')"
   ]
  },
  {
   "cell_type": "code",
   "execution_count": 8,
   "metadata": {},
   "outputs": [],
   "source": [
    "## For our purposes, these images are just a vector of 784 inputs, so let's convert\n",
    "x_train = x_train.reshape(len(x_train), 28*28)\n",
    "x_test = x_test.reshape(len(x_test), 28*28)\n",
    "\n",
    "## Keras works with floats, so we must cast the numbers to floats\n",
    "x_train = x_train.astype('float32')\n",
    "x_test = x_test.astype('float32')\n",
    "\n",
    "## Normalize the inputs so they are between 0 and 1\n",
    "x_train /= 255\n",
    "x_test /= 255\n"
   ]
  },
  {
   "cell_type": "code",
   "execution_count": 9,
   "metadata": {},
   "outputs": [
    {
     "data": {
      "text/plain": [
       "array([0., 0., 0., 0., 0., 0., 0., 0., 1., 0.], dtype=float32)"
      ]
     },
     "execution_count": 9,
     "metadata": {},
     "output_type": "execute_result"
    }
   ],
   "source": [
    "# convert class vectors to binary class matrices\n",
    "num_classes = 10\n",
    "y_train = keras.utils.to_categorical(y_train, num_classes)\n",
    "y_test = keras.utils.to_categorical(y_test, num_classes)\n",
    "\n",
    "y_train[333]  # now the digit k is represented by a 1 in the kth entry (0-indexed) of the length 10 vector"
   ]
  },
  {
   "cell_type": "code",
   "execution_count": 10,
   "metadata": {},
   "outputs": [
    {
     "name": "stdout",
     "output_type": "stream",
     "text": [
      "WARNING:tensorflow:From C:\\Conda\\lib\\site-packages\\tensorflow\\python\\framework\\op_def_library.py:263: colocate_with (from tensorflow.python.framework.ops) is deprecated and will be removed in a future version.\n",
      "Instructions for updating:\n",
      "Colocations handled automatically by placer.\n",
      "WARNING:tensorflow:From C:\\Conda\\lib\\site-packages\\keras\\backend\\tensorflow_backend.py:3445: calling dropout (from tensorflow.python.ops.nn_ops) with keep_prob is deprecated and will be removed in a future version.\n",
      "Instructions for updating:\n",
      "Please use `rate` instead of `keep_prob`. Rate should be set to `rate = 1 - keep_prob`.\n"
     ]
    }
   ],
   "source": [
    "# We will build a model with two hidden layers of size 512\n",
    "# Fully connected inputs at each layer\n",
    "# We will use dropout of .2 to help regularize\n",
    "model_1 = Sequential()\n",
    "model_1.add(Dense(64, activation='relu', input_shape=(784,)))\n",
    "model_1.add(Dropout(0.2))\n",
    "model_1.add(Dense(64, activation='relu'))\n",
    "model_1.add(Dropout(0.2))\n",
    "model_1.add(Dense(10, activation='softmax'))"
   ]
  },
  {
   "cell_type": "code",
   "execution_count": 11,
   "metadata": {
    "scrolled": true
   },
   "outputs": [
    {
     "name": "stdout",
     "output_type": "stream",
     "text": [
      "_________________________________________________________________\n",
      "Layer (type)                 Output Shape              Param #   \n",
      "=================================================================\n",
      "dense_1 (Dense)              (None, 64)                50240     \n",
      "_________________________________________________________________\n",
      "dropout_1 (Dropout)          (None, 64)                0         \n",
      "_________________________________________________________________\n",
      "dense_2 (Dense)              (None, 64)                4160      \n",
      "_________________________________________________________________\n",
      "dropout_2 (Dropout)          (None, 64)                0         \n",
      "_________________________________________________________________\n",
      "dense_3 (Dense)              (None, 10)                650       \n",
      "=================================================================\n",
      "Total params: 55,050\n",
      "Trainable params: 55,050\n",
      "Non-trainable params: 0\n",
      "_________________________________________________________________\n"
     ]
    }
   ],
   "source": [
    "## Note that this model has a LOT of parameters\n",
    "model_1.summary()"
   ]
  },
  {
   "cell_type": "code",
   "execution_count": 12,
   "metadata": {},
   "outputs": [],
   "source": [
    "# Let's compile the model\n",
    "learning_rate = .001\n",
    "model_1.compile(loss='categorical_crossentropy',\n",
    "              optimizer=RMSprop(lr=learning_rate),\n",
    "              metrics=['accuracy'])\n",
    "# note that `categorical cross entropy` is the natural generalization \n",
    "# of the loss function we had in binary classification case, to multi class case"
   ]
  },
  {
   "cell_type": "code",
   "execution_count": 13,
   "metadata": {},
   "outputs": [
    {
     "name": "stdout",
     "output_type": "stream",
     "text": [
      "WARNING:tensorflow:From C:\\Conda\\lib\\site-packages\\tensorflow\\python\\ops\\math_ops.py:3066: to_int32 (from tensorflow.python.ops.math_ops) is deprecated and will be removed in a future version.\n",
      "Instructions for updating:\n",
      "Use tf.cast instead.\n",
      "Train on 60000 samples, validate on 10000 samples\n",
      "Epoch 1/30\n",
      "60000/60000 [==============================] - 2s 37us/step - loss: 0.5030 - acc: 0.8480 - val_loss: 0.2078 - val_acc: 0.9340\n",
      "Epoch 2/30\n",
      "60000/60000 [==============================] - 2s 29us/step - loss: 0.2524 - acc: 0.9254 - val_loss: 0.1531 - val_acc: 0.9536\n",
      "Epoch 3/30\n",
      "60000/60000 [==============================] - 2s 30us/step - loss: 0.1957 - acc: 0.9428 - val_loss: 0.1271 - val_acc: 0.9616\n",
      "Epoch 4/30\n",
      "60000/60000 [==============================] - 2s 29us/step - loss: 0.1697 - acc: 0.9500 - val_loss: 0.1156 - val_acc: 0.9660\n",
      "Epoch 5/30\n",
      "60000/60000 [==============================] - 2s 29us/step - loss: 0.1542 - acc: 0.9556 - val_loss: 0.1082 - val_acc: 0.9685\n",
      "Epoch 6/30\n",
      "60000/60000 [==============================] - 2s 29us/step - loss: 0.1415 - acc: 0.9586 - val_loss: 0.1028 - val_acc: 0.9689\n",
      "Epoch 7/30\n",
      "60000/60000 [==============================] - 2s 29us/step - loss: 0.1328 - acc: 0.9607 - val_loss: 0.1053 - val_acc: 0.9696\n",
      "Epoch 8/30\n",
      "60000/60000 [==============================] - 2s 29us/step - loss: 0.1250 - acc: 0.9630 - val_loss: 0.0999 - val_acc: 0.9702\n",
      "Epoch 9/30\n",
      "60000/60000 [==============================] - 2s 29us/step - loss: 0.1193 - acc: 0.9646 - val_loss: 0.0960 - val_acc: 0.9720\n",
      "Epoch 10/30\n",
      "60000/60000 [==============================] - 2s 29us/step - loss: 0.1147 - acc: 0.9659 - val_loss: 0.0958 - val_acc: 0.9722\n",
      "Epoch 11/30\n",
      "60000/60000 [==============================] - 2s 29us/step - loss: 0.1081 - acc: 0.9685 - val_loss: 0.0929 - val_acc: 0.9734\n",
      "Epoch 12/30\n",
      "60000/60000 [==============================] - 2s 29us/step - loss: 0.1058 - acc: 0.9679 - val_loss: 0.0918 - val_acc: 0.9754\n",
      "Epoch 13/30\n",
      "60000/60000 [==============================] - ETA: 0s - loss: 0.1045 - acc: 0.969 - 2s 29us/step - loss: 0.1046 - acc: 0.9696 - val_loss: 0.0907 - val_acc: 0.9739\n",
      "Epoch 14/30\n",
      "60000/60000 [==============================] - 2s 29us/step - loss: 0.1003 - acc: 0.9699 - val_loss: 0.0947 - val_acc: 0.9750\n",
      "Epoch 15/30\n",
      "60000/60000 [==============================] - 2s 29us/step - loss: 0.1023 - acc: 0.9703 - val_loss: 0.0971 - val_acc: 0.9726\n",
      "Epoch 16/30\n",
      "60000/60000 [==============================] - 2s 29us/step - loss: 0.0960 - acc: 0.9707 - val_loss: 0.0966 - val_acc: 0.9738\n",
      "Epoch 17/30\n",
      "60000/60000 [==============================] - 2s 29us/step - loss: 0.0952 - acc: 0.9719 - val_loss: 0.0960 - val_acc: 0.9748\n",
      "Epoch 18/30\n",
      "60000/60000 [==============================] - 2s 29us/step - loss: 0.0924 - acc: 0.9718 - val_loss: 0.0982 - val_acc: 0.9728\n",
      "Epoch 19/30\n",
      "60000/60000 [==============================] - 2s 29us/step - loss: 0.0916 - acc: 0.9733 - val_loss: 0.0953 - val_acc: 0.9746\n",
      "Epoch 20/30\n",
      "60000/60000 [==============================] - 2s 29us/step - loss: 0.0889 - acc: 0.9737 - val_loss: 0.0971 - val_acc: 0.9764\n",
      "Epoch 21/30\n",
      "60000/60000 [==============================] - 2s 29us/step - loss: 0.0873 - acc: 0.9739 - val_loss: 0.1018 - val_acc: 0.9755\n",
      "Epoch 22/30\n",
      "60000/60000 [==============================] - 2s 30us/step - loss: 0.0862 - acc: 0.9749 - val_loss: 0.0990 - val_acc: 0.9766\n",
      "Epoch 23/30\n",
      "60000/60000 [==============================] - 2s 29us/step - loss: 0.0866 - acc: 0.9741 - val_loss: 0.0990 - val_acc: 0.9747\n",
      "Epoch 24/30\n",
      "60000/60000 [==============================] - 2s 29us/step - loss: 0.0845 - acc: 0.9754 - val_loss: 0.1072 - val_acc: 0.9751\n",
      "Epoch 25/30\n",
      "60000/60000 [==============================] - 2s 29us/step - loss: 0.0826 - acc: 0.9759 - val_loss: 0.1038 - val_acc: 0.9756\n",
      "Epoch 26/30\n",
      "60000/60000 [==============================] - 2s 28us/step - loss: 0.0824 - acc: 0.9761 - val_loss: 0.1083 - val_acc: 0.9735\n",
      "Epoch 27/30\n",
      "60000/60000 [==============================] - 2s 29us/step - loss: 0.0843 - acc: 0.9756 - val_loss: 0.1032 - val_acc: 0.9768\n",
      "Epoch 28/30\n",
      "60000/60000 [==============================] - 2s 29us/step - loss: 0.0825 - acc: 0.9762 - val_loss: 0.1018 - val_acc: 0.9766\n",
      "Epoch 29/30\n",
      "60000/60000 [==============================] - 2s 29us/step - loss: 0.0823 - acc: 0.9763 - val_loss: 0.1061 - val_acc: 0.9750\n",
      "Epoch 30/30\n",
      "60000/60000 [==============================] - 2s 29us/step - loss: 0.0825 - acc: 0.9759 - val_loss: 0.1055 - val_acc: 0.9752\n"
     ]
    }
   ],
   "source": [
    "# And now let's fit.\n",
    "\n",
    "batch_size = 128  # mini-batch with 128 examples\n",
    "epochs = 30\n",
    "history = model_1.fit(\n",
    "    x_train, y_train,\n",
    "    batch_size=batch_size,\n",
    "    epochs=epochs,\n",
    "    verbose=1,\n",
    "    validation_data=(x_test, y_test))"
   ]
  },
  {
   "cell_type": "code",
   "execution_count": 14,
   "metadata": {},
   "outputs": [
    {
     "name": "stdout",
     "output_type": "stream",
     "text": [
      "Test loss: 0.10552346733190643\n",
      "Test accuracy: 0.9752\n"
     ]
    }
   ],
   "source": [
    "## We will use Keras evaluate function to evaluate performance on the test set\n",
    "\n",
    "score = model_1.evaluate(x_test, y_test, verbose=0)\n",
    "print('Test loss:', score[0])\n",
    "print('Test accuracy:', score[1])"
   ]
  },
  {
   "cell_type": "code",
   "execution_count": 15,
   "metadata": {},
   "outputs": [
    {
     "data": {
      "image/png": "[encoded data removed]",
      "text/plain": [
       "<Figure size 864x432 with 2 Axes>"
      ]
     },
     "metadata": {
      "needs_background": "light"
     },
     "output_type": "display_data"
    }
   ],
   "source": [
    "def plot_loss_accuracy(history):\n",
    "    fig = plt.figure(figsize=(12, 6))\n",
    "    ax = fig.add_subplot(1, 2, 1)\n",
    "    ax.plot(history.history[\"loss\"],'r-x', label=\"Train Loss\")\n",
    "    ax.plot(history.history[\"val_loss\"],'b-x', label=\"Validation Loss\")\n",
    "    ax.legend()\n",
    "    ax.set_title('cross_entropy loss')\n",
    "    ax.grid(True)\n",
    "\n",
    "\n",
    "    ax = fig.add_subplot(1, 2, 2)\n",
    "    ax.plot(history.history[\"acc\"],'r-x', label=\"Train Accuracy\")\n",
    "    ax.plot(history.history[\"val_acc\"],'b-x', label=\"Validation Accuracy\")\n",
    "    ax.legend()\n",
    "    ax.set_title('accuracy')\n",
    "    ax.grid(True)\n",
    "    \n",
    "\n",
    "plot_loss_accuracy(history)"
   ]
  },
  {
   "cell_type": "markdown",
   "metadata": {},
   "source": [
    "This is reasonably good performance, but we can do even better!  Next you will build an even bigger network and compare the performance."
   ]
  },
  {
   "cell_type": "markdown",
   "metadata": {},
   "source": [
    "## Exercise\n",
    "### Your Turn: Build your own model\n",
    "Use the Keras \"Sequential\" functionality to build a convolutional neural network `model_2` with the following specifications:\n",
    "<br>\n",
    "<br>\n",
    "Model Architecture:<br>\n",
    "We will build the famous LeNet architecutre and measure its performance.\n",
    "<br>\n",
    "    Convolution -> Relu -> Max pooling -> Convolution -> Relu -> Max pooling -> FC1 -> Relu -> FC2 -> Output(SoftMax)\n",
    "<br>\n",
    "\n",
    "1. Convolution 1 kernel size: 5(H) x 5(W) x 6(filters), stride = 1, no padding\n",
    "2. Max pooling 1 kernel size: 2(H) x 2(W), stride = 2\n",
    "3. Convolution 2 kernel size: 5(H) x 5(W) x 16(filters), stride = 1, no padding\n",
    "4. Max pooling 2 kernel size: 2(H) x 2(W), stride = 2\n",
    "5. FC1 size: 120\n",
    "6. FC2 size: 84\n",
    "7. How many parameters does your model have?  How does it compare with the previous model?\n",
    "8. Train this model for 20 epochs with RMSProp at a learning rate of .001 and a batch size of 128"
   ]
  },
  {
   "cell_type": "markdown",
   "metadata": {},
   "source": [
    "To use the LeNet model, we need to do some preprocessing of the data first."
   ]
  },
  {
   "cell_type": "code",
   "execution_count": 16,
   "metadata": {},
   "outputs": [
    {
     "data": {
      "text/plain": [
       "((60000, 28, 28), (10000, 28, 28))"
      ]
     },
     "execution_count": 16,
     "metadata": {},
     "output_type": "execute_result"
    }
   ],
   "source": [
    "# Data is currently flattened i.e. m X 784, we need to reshape it back to 28 * 28. To do that we reshape the data.\n",
    "\n",
    "x_train = np.reshape(x_train, [-1, 28, 28])\n",
    "x_test = np.reshape(x_test, [-1, 28, 28])\n",
    "x_train.shape, x_test.shape"
   ]
  },
  {
   "cell_type": "code",
   "execution_count": 17,
   "metadata": {},
   "outputs": [
    {
     "data": {
      "text/plain": [
       "((60000, 32, 32), (10000, 32, 32))"
      ]
     },
     "execution_count": 17,
     "metadata": {},
     "output_type": "execute_result"
    }
   ],
   "source": [
    "# LeNet requires input of 32 X 32. So, we will pad the train and test images with zeros to increase the size to 32 X 32.\n",
    "\n",
    "x_train=np.pad(x_train, ((0,0), (2,2), (2, 2)), 'constant')\n",
    "x_test=np.pad(x_test, ((0,0), (2,2), (2, 2)), 'constant')\n",
    "x_train.shape, x_test.shape"
   ]
  },
  {
   "cell_type": "code",
   "execution_count": 18,
   "metadata": {},
   "outputs": [
    {
     "data": {
      "text/plain": [
       "((60000, 32, 32, 1), (10000, 32, 32, 1))"
      ]
     },
     "execution_count": 18,
     "metadata": {},
     "output_type": "execute_result"
    }
   ],
   "source": [
    "# Convolutional model requires input to be of 3 dimensions. We will add a channel dimension to it.\n",
    "\n",
    "x_train = np.reshape(x_train, [-1, 32, 32, 1])\n",
    "x_test = np.reshape(x_test, [-1, 32, 32, 1])\n",
    "x_train.shape, x_test.shape"
   ]
  },
  {
   "cell_type": "markdown",
   "metadata": {},
   "source": [
    "Write your model below"
   ]
  },
  {
   "cell_type": "code",
   "execution_count": 19,
   "metadata": {},
   "outputs": [
    {
     "name": "stdout",
     "output_type": "stream",
     "text": [
      "Train on 60000 samples, validate on 10000 samples\n",
      "Epoch 1/20\n",
      "60000/60000 [==============================] - 38s 642us/step - loss: 0.2895 - acc: 0.9118 - val_loss: 0.0780 - val_acc: 0.9734\n",
      "Epoch 2/20\n",
      "60000/60000 [==============================] - 38s 632us/step - loss: 0.0788 - acc: 0.9759 - val_loss: 0.0615 - val_acc: 0.9791\n",
      "Epoch 3/20\n",
      "60000/60000 [==============================] - 38s 633us/step - loss: 0.0536 - acc: 0.9837 - val_loss: 0.0458 - val_acc: 0.9845\n",
      "Epoch 4/20\n",
      "60000/60000 [==============================] - 38s 633us/step - loss: 0.0407 - acc: 0.9867 - val_loss: 0.0394 - val_acc: 0.9866\n",
      "Epoch 5/20\n",
      "60000/60000 [==============================] - 38s 633us/step - loss: 0.0328 - acc: 0.9891 - val_loss: 0.0387 - val_acc: 0.9871\n",
      "Epoch 6/20\n",
      "60000/60000 [==============================] - 38s 636us/step - loss: 0.0276 - acc: 0.9915 - val_loss: 0.0357 - val_acc: 0.9882\n",
      "Epoch 7/20\n",
      "60000/60000 [==============================] - 38s 634us/step - loss: 0.0241 - acc: 0.9921 - val_loss: 0.0305 - val_acc: 0.9893\n",
      "Epoch 8/20\n",
      "60000/60000 [==============================] - 38s 635us/step - loss: 0.0198 - acc: 0.9936 - val_loss: 0.0280 - val_acc: 0.9913\n",
      "Epoch 9/20\n",
      "60000/60000 [==============================] - 38s 632us/step - loss: 0.0179 - acc: 0.9943 - val_loss: 0.0297 - val_acc: 0.9909\n",
      "Epoch 10/20\n",
      "60000/60000 [==============================] - 38s 634us/step - loss: 0.0151 - acc: 0.9951 - val_loss: 0.0629 - val_acc: 0.9809\n",
      "Epoch 11/20\n",
      "60000/60000 [==============================] - 38s 640us/step - loss: 0.0131 - acc: 0.9958 - val_loss: 0.0334 - val_acc: 0.9904\n",
      "Epoch 12/20\n",
      "60000/60000 [==============================] - 38s 633us/step - loss: 0.0118 - acc: 0.9965 - val_loss: 0.0325 - val_acc: 0.9906\n",
      "Epoch 13/20\n",
      "60000/60000 [==============================] - 38s 633us/step - loss: 0.0113 - acc: 0.9965 - val_loss: 0.0377 - val_acc: 0.9901\n",
      "Epoch 14/20\n",
      "60000/60000 [==============================] - 38s 633us/step - loss: 0.0094 - acc: 0.9973 - val_loss: 0.0432 - val_acc: 0.9893\n",
      "Epoch 15/20\n",
      "60000/60000 [==============================] - 38s 633us/step - loss: 0.0090 - acc: 0.9971 - val_loss: 0.0555 - val_acc: 0.9855\n",
      "Epoch 16/20\n",
      "60000/60000 [==============================] - 38s 630us/step - loss: 0.0074 - acc: 0.9975 - val_loss: 0.0404 - val_acc: 0.9909\n",
      "Epoch 17/20\n",
      "60000/60000 [==============================] - 38s 632us/step - loss: 0.0077 - acc: 0.9977 - val_loss: 0.0363 - val_acc: 0.9915\n",
      "Epoch 18/20\n",
      "60000/60000 [==============================] - 38s 636us/step - loss: 0.0062 - acc: 0.9982 - val_loss: 0.0395 - val_acc: 0.9915\n",
      "Epoch 19/20\n",
      "60000/60000 [==============================] - 39s 642us/step - loss: 0.0065 - acc: 0.9981 - val_loss: 0.0449 - val_acc: 0.9912\n",
      "Epoch 20/20\n",
      "60000/60000 [==============================] - 38s 639us/step - loss: 0.0053 - acc: 0.9983 - val_loss: 0.0448 - val_acc: 0.9903\n",
      "_________________________________________________________________\n",
      "Layer (type)                 Output Shape              Param #   \n",
      "=================================================================\n",
      "conv2d_1 (Conv2D)            (None, 28, 28, 6)         156       \n",
      "_________________________________________________________________\n",
      "max_pooling2d_1 (MaxPooling2 (None, 14, 14, 6)         0         \n",
      "_________________________________________________________________\n",
      "conv2d_2 (Conv2D)            (None, 10, 10, 16)        2416      \n",
      "_________________________________________________________________\n",
      "max_pooling2d_2 (MaxPooling2 (None, 5, 5, 16)          0         \n",
      "_________________________________________________________________\n",
      "flatten_1 (Flatten)          (None, 400)               0         \n",
      "_________________________________________________________________\n",
      "dense_4 (Dense)              (None, 120)               48120     \n",
      "_________________________________________________________________\n",
      "dense_5 (Dense)              (None, 84)                10164     \n",
      "_________________________________________________________________\n",
      "dense_6 (Dense)              (None, 10)                850       \n",
      "=================================================================\n",
      "Total params: 61,706\n",
      "Trainable params: 61,706\n",
      "Non-trainable params: 0\n",
      "_________________________________________________________________\n"
     ]
    }
   ],
   "source": [
    "model_2 = Sequential() \n",
    "model_2.add(Conv2D(6,kernel_size=(5,5),strides=(1,1),activation=\"relu\"))\n",
    "model_2.add(MaxPooling2D(pool_size=(2,2),strides=(2,2)))\n",
    "model_2.add(Conv2D(16,kernel_size=(5,5),strides=(1,1),activation=\"relu\"))\n",
    "model_2.add(MaxPooling2D(pool_size=(2,2),strides=(2,2)))\n",
    "model_2.add(Flatten())\n",
    "\n",
    "\n",
    "#FC1 and FC2 layers\n",
    "model_2.add(Dense(120,activation=\"relu\"))\n",
    "model_2.add(Dense(84,activation=\"relu\"))\n",
    "\n",
    "#Final Softmax layer\n",
    "model_2.add(Dense(10,activation=\"softmax\"))\n",
    "\n",
    "model_2.compile(loss='categorical_crossentropy',\n",
    "              optimizer=RMSprop(lr=.001),\n",
    "              metrics=['accuracy'])\n",
    "\n",
    "history2 = model_2.fit(\n",
    "    x_train, y_train,\n",
    "    batch_size=128,\n",
    "    epochs=20,\n",
    "    verbose=1,\n",
    "    validation_data=(x_test, y_test))\n",
    "\n",
    "model_2.summary()\n"
   ]
  },
  {
   "cell_type": "code",
   "execution_count": 20,
   "metadata": {},
   "outputs": [
    {
     "name": "stdout",
     "output_type": "stream",
     "text": [
      "Test loss: 0.044815872876554065\n",
      "Test accuracy: 0.9903\n"
     ]
    },
    {
     "data": {
      "image/png": "[encoded data removed]",
      "text/plain": [
       "<Figure size 864x432 with 2 Axes>"
      ]
     },
     "metadata": {
      "needs_background": "light"
     },
     "output_type": "display_data"
    }
   ],
   "source": [
    "score = model_2.evaluate(x_test, y_test, verbose=0)\n",
    "print('Test loss:', score[0])\n",
    "print('Test accuracy:', score[1])\n",
    "\n",
    "plot_loss_accuracy(history2)\n"
   ]
  },
  {
   "cell_type": "markdown",
   "metadata": {
    "collapsed": true
   },
   "source": [
    "## Think about the following questions\n",
    "\n",
    "1) How do model_1 and model_2 compare?  Which do you prefer?  If you were going to put one into production, which would you choose and why?\n",
    "\n",
    "2) Compare the trajectories of the loss function on the training set and test set for each model?  How do they compare?  What does that suggest about each model?  Do the same for accuracy?  Which do you think is more meaningful, the loss or the accuracy?\n",
    "\n",
    "3) Suggest an improvement to the second model (changing structure, learning rate, number of epochs, etc.) that you think will result in a better model or a smaller model with same performance.  Try it out below?  Did it improve the performance? "
   ]
  },
  {
   "cell_type": "code",
   "execution_count": null,
   "metadata": {},
   "outputs": [],
   "source": [
    "# 1) model_2 is better, and would be selected for production as it has a lower\n",
    "#    test loss and a higher test accuracy. \n",
    "\n",
    "# 2) The trajectories are similar for both, but the validation graph for model 2 \n",
    "#    has sudden sudden deflections in it.\n",
    "\n",
    "# 3) Below is the model trained with a learning rate of .005 on 10 epochs. While\n",
    "#     the test loss is higher, the accuracy is close to the last model, and well\n",
    "#     over 70%\n"
   ]
  },
  {
   "cell_type": "code",
   "execution_count": 21,
   "metadata": {},
   "outputs": [
    {
     "name": "stdout",
     "output_type": "stream",
     "text": [
      "Train on 60000 samples, validate on 10000 samples\n",
      "Epoch 1/10\n",
      "60000/60000 [==============================] - 39s 644us/step - loss: 0.1100 - acc: 0.9777 - val_loss: 0.0467 - val_acc: 0.9859\n",
      "Epoch 2/10\n",
      "60000/60000 [==============================] - 38s 631us/step - loss: 0.0512 - acc: 0.9852 - val_loss: 0.0613 - val_acc: 0.9837\n",
      "Epoch 3/10\n",
      "60000/60000 [==============================] - 37s 623us/step - loss: 0.0442 - acc: 0.9875 - val_loss: 0.0564 - val_acc: 0.9858\n",
      "Epoch 4/10\n",
      "60000/60000 [==============================] - 38s 625us/step - loss: 0.0405 - acc: 0.9887 - val_loss: 0.0507 - val_acc: 0.9880\n",
      "Epoch 5/10\n",
      "60000/60000 [==============================] - 37s 619us/step - loss: 0.0371 - acc: 0.9900 - val_loss: 0.0904 - val_acc: 0.9811\n",
      "Epoch 6/10\n",
      "60000/60000 [==============================] - 37s 619us/step - loss: 0.0380 - acc: 0.9903 - val_loss: 0.0453 - val_acc: 0.9901\n",
      "Epoch 7/10\n",
      "60000/60000 [==============================] - 37s 624us/step - loss: 0.0335 - acc: 0.9920 - val_loss: 0.1410 - val_acc: 0.9734\n",
      "Epoch 8/10\n",
      "60000/60000 [==============================] - 37s 624us/step - loss: 0.0354 - acc: 0.9914 - val_loss: 0.0872 - val_acc: 0.9760\n",
      "Epoch 9/10\n",
      "60000/60000 [==============================] - 37s 624us/step - loss: 0.0366 - acc: 0.9919 - val_loss: 0.0756 - val_acc: 0.9862\n",
      "Epoch 10/10\n",
      "60000/60000 [==============================] - 37s 620us/step - loss: 0.0379 - acc: 0.9920 - val_loss: 0.0824 - val_acc: 0.9830\n",
      "Test loss: 0.08241942190877162\n",
      "Test accuracy: 0.983\n"
     ]
    },
    {
     "data": {
      "image/png": "[encoded data removed]",
      "text/plain": [
       "<Figure size 864x432 with 2 Axes>"
      ]
     },
     "metadata": {
      "needs_background": "light"
     },
     "output_type": "display_data"
    }
   ],
   "source": [
    "model_2.compile(loss='categorical_crossentropy',\n",
    "              optimizer=RMSprop(lr=.005),\n",
    "              metrics=['accuracy'])\n",
    "\n",
    "history3 = model_2.fit(\n",
    "    x_train, y_train,\n",
    "    batch_size=128,\n",
    "    epochs=10,\n",
    "    verbose=1,\n",
    "    validation_data=(x_test, y_test))\n",
    "\n",
    "score = model_2.evaluate(x_test, y_test, verbose=0)\n",
    "print('Test loss:', score[0])\n",
    "print('Test accuracy:', score[1])\n",
    "\n",
    "plot_loss_accuracy(history3)\n"
   ]
  }
 ],
 "metadata": {
  "kernelspec": {
   "display_name": "Python 3",
   "language": "python",
   "name": "python3"
  },
  "language_info": {
   "codemirror_mode": {
    "name": "ipython",
    "version": 3
   },
   "file_extension": ".py",
   "mimetype": "text/x-python",
   "name": "python",
   "nbconvert_exporter": "python",
   "pygments_lexer": "ipython3",
   "version": "3.7.1"
  }
 },
 "nbformat": 4,
 "nbformat_minor": 1
}
